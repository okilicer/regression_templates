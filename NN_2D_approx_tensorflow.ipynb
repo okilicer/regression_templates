{
 "cells": [
  {
   "cell_type": "code",
   "execution_count": 1,
   "id": "ae221949",
   "metadata": {},
   "outputs": [
    {
     "name": "stdout",
     "output_type": "stream",
     "text": [
      "WARNING:tensorflow:From C:\\Users\\orsan\\anaconda3\\Lib\\site-packages\\keras\\src\\losses.py:2976: The name tf.losses.sparse_softmax_cross_entropy is deprecated. Please use tf.compat.v1.losses.sparse_softmax_cross_entropy instead.\n",
      "\n"
     ]
    }
   ],
   "source": [
    "import numpy as np\n",
    "from tensorflow.keras.models import Sequential\n",
    "from tensorflow.keras.layers import Dense\n",
    "from sklearn.model_selection import train_test_split\n",
    "from sklearn.metrics import mean_squared_error\n",
    "import tensorflow as tf"
   ]
  },
  {
   "cell_type": "markdown",
   "id": "67734eda",
   "metadata": {},
   "source": [
    "# First Function"
   ]
  },
  {
   "cell_type": "code",
   "execution_count": 2,
   "id": "2c31e113",
   "metadata": {},
   "outputs": [],
   "source": [
    "#The number of points is number\n",
    "number = 1000\n",
    "M = np.linspace(0, 1, number)\n",
    "N = np.linspace(0, 1, number)\n",
    "\n",
    "\n",
    "point_x_comp = np.zeros(len(M)*len(N))\n",
    "point_y_comp = np.zeros(len(M)*len(N))\n",
    "sin_function = np.zeros(len(M)*len(N))\n",
    "iteration = 0\n",
    "#point_x and point_y in 2D. Also sin_function is sin(2*pi*x)*sin(2*pi*y)\n",
    "for i in range(len(M)):\n",
    "    for j in range(len(N)):\n",
    "        point_x_comp[iteration] = M[i]\n",
    "        point_y_comp[iteration] = N[j]\n",
    "        sin_function[iteration] = np.sin(2*np.pi*M[i])*np.sin(2*np.pi*N[j])\n",
    "        iteration += 1\n"
   ]
  },
  {
   "cell_type": "code",
   "execution_count": 3,
   "id": "d43386e3",
   "metadata": {},
   "outputs": [],
   "source": [
    "sin_function = sin_function.reshape(len(M)*len(N), 1) #Reshape is for technical stuff"
   ]
  },
  {
   "cell_type": "code",
   "execution_count": 4,
   "id": "c080b65d",
   "metadata": {},
   "outputs": [],
   "source": [
    "x_train = np.dstack((point_x_comp, point_y_comp)) #We create 2 features for the deep learning process"
   ]
  },
  {
   "cell_type": "code",
   "execution_count": 5,
   "id": "65c8996a",
   "metadata": {},
   "outputs": [],
   "source": [
    "x_train = x_train.reshape(len(M)*len(N), 2) #Reshape is for technical stuff"
   ]
  },
  {
   "cell_type": "code",
   "execution_count": 6,
   "id": "2e8cbebf",
   "metadata": {},
   "outputs": [
    {
     "name": "stdout",
     "output_type": "stream",
     "text": [
      "WARNING:tensorflow:From C:\\Users\\orsan\\anaconda3\\Lib\\site-packages\\keras\\src\\backend.py:873: The name tf.get_default_graph is deprecated. Please use tf.compat.v1.get_default_graph instead.\n",
      "\n"
     ]
    }
   ],
   "source": [
    "# We create a neural network model for regression\n",
    "model = Sequential()\n",
    "model.add(Dense(64, input_dim=2, activation= \"sigmoid\"))\n",
    "model.add(Dense(64, activation= \"relu\"))\n",
    "model.add(Dense(64, activation= \"relu\"))\n",
    "model.add(Dense(1))"
   ]
  },
  {
   "cell_type": "code",
   "execution_count": 7,
   "id": "8f633450",
   "metadata": {},
   "outputs": [
    {
     "name": "stdout",
     "output_type": "stream",
     "text": [
      "(700000, 2)\n",
      "(300000, 2)\n"
     ]
    }
   ],
   "source": [
    "X_train, X_test, y_train, y_test = train_test_split(x_train, sin_function, test_size=0.30, random_state=40)\n",
    "print(X_train.shape); print(X_test.shape)"
   ]
  },
  {
   "cell_type": "code",
   "execution_count": 8,
   "id": "d93b5940",
   "metadata": {},
   "outputs": [
    {
     "name": "stdout",
     "output_type": "stream",
     "text": [
      "WARNING:tensorflow:From C:\\Users\\orsan\\anaconda3\\Lib\\site-packages\\keras\\src\\utils\\tf_utils.py:492: The name tf.ragged.RaggedTensorValue is deprecated. Please use tf.compat.v1.ragged.RaggedTensorValue instead.\n",
      "\n",
      "WARNING:tensorflow:From C:\\Users\\orsan\\anaconda3\\Lib\\site-packages\\keras\\src\\engine\\base_layer_utils.py:384: The name tf.executing_eagerly_outside_functions is deprecated. Please use tf.compat.v1.executing_eagerly_outside_functions instead.\n",
      "\n",
      "10938/10938 [==============================] - 19s 2ms/step - loss: 0.0163 - mean_squared_error: 0.0163\n"
     ]
    },
    {
     "data": {
      "text/plain": [
       "<keras.src.callbacks.History at 0x1a78bcb7610>"
      ]
     },
     "execution_count": 8,
     "metadata": {},
     "output_type": "execute_result"
    }
   ],
   "source": [
    "model.compile(loss= \"mean_squared_error\" , optimizer=tf.keras.optimizers.Adam(learning_rate=1e-3), metrics=[\"mean_squared_error\"])\n",
    "model.fit(X_train, y_train, epochs=1, batch_size=64)"
   ]
  },
  {
   "cell_type": "code",
   "execution_count": 9,
   "id": "0aae55ff",
   "metadata": {},
   "outputs": [
    {
     "name": "stdout",
     "output_type": "stream",
     "text": [
      "21875/21875 [==============================] - 31s 1ms/step\n",
      "0.02983338959516844\n",
      "9375/9375 [==============================] - 12s 1ms/step\n",
      "0.02985898969732982\n"
     ]
    }
   ],
   "source": [
    "#We calcluate the mean squared error for the train set\n",
    "pred_train = model.predict(X_train)\n",
    "print(np.sqrt(mean_squared_error(y_train, pred_train)))\n",
    "\n",
    "#We calcluate the mean squared error for the validation set\n",
    "pred = model.predict(X_test)\n",
    "print(np.sqrt(mean_squared_error(y_test, pred))) "
   ]
  },
  {
   "cell_type": "markdown",
   "id": "5165db7b",
   "metadata": {},
   "source": [
    "# Second Function"
   ]
  },
  {
   "cell_type": "code",
   "execution_count": 10,
   "id": "c94b5f13",
   "metadata": {},
   "outputs": [],
   "source": [
    "number = 1000\n",
    "M = np.linspace(0, 1, number)\n",
    "N = np.linspace(0, 1, number)\n",
    "piecewise_func = np.zeros(len(M)*len(N)) \n",
    "iteration = 0\n",
    "#point_x and point_y in 2D componentwise. Also piecewise_func is defined in the problem\n",
    "for i in range(len(M)):\n",
    "    for j in range(len(N)):\n",
    "        point_x_comp[iteration] = M[i]\n",
    "        point_y_comp[iteration] = N[j]\n",
    "        if i < j:\n",
    "            piecewise_func[iteration] = 1\n",
    "        iteration += 1\n",
    "           \n"
   ]
  },
  {
   "cell_type": "code",
   "execution_count": 11,
   "id": "573277fc",
   "metadata": {},
   "outputs": [],
   "source": [
    "model2 = Sequential()\n",
    "model2.add(Dense(64, input_dim=2, activation= \"sigmoid\"))\n",
    "model2.add(Dense(64, activation= \"relu\"))\n",
    "model2.add(Dense(64, activation= \"relu\"))\n",
    "model2.add(Dense(1))"
   ]
  },
  {
   "cell_type": "code",
   "execution_count": 12,
   "id": "d325c781",
   "metadata": {},
   "outputs": [
    {
     "name": "stdout",
     "output_type": "stream",
     "text": [
      "(700000, 2)\n",
      "(300000, 2)\n"
     ]
    }
   ],
   "source": [
    "X_train, X_test, y_train, y_test = train_test_split(x_train, sin_function, test_size=0.30, random_state=40)\n",
    "print(X_train.shape); print(X_test.shape)"
   ]
  },
  {
   "cell_type": "code",
   "execution_count": 13,
   "id": "846bf565",
   "metadata": {},
   "outputs": [
    {
     "name": "stdout",
     "output_type": "stream",
     "text": [
      "Epoch 1/10\n",
      "10938/10938 [==============================] - 20s 2ms/step - loss: 0.0262 - mean_squared_error: 0.0262\n",
      "Epoch 2/10\n",
      "10938/10938 [==============================] - 19s 2ms/step - loss: 0.0021 - mean_squared_error: 0.0021\n",
      "Epoch 3/10\n",
      "10938/10938 [==============================] - 17s 2ms/step - loss: 0.0017 - mean_squared_error: 0.0017\n",
      "Epoch 4/10\n",
      "10938/10938 [==============================] - 17s 2ms/step - loss: 0.0012 - mean_squared_error: 0.0012\n",
      "Epoch 5/10\n",
      "10938/10938 [==============================] - 18s 2ms/step - loss: 5.9563e-04 - mean_squared_error: 5.9563e-04\n",
      "Epoch 6/10\n",
      "10938/10938 [==============================] - 17s 2ms/step - loss: 4.5499e-04 - mean_squared_error: 4.5499e-04\n",
      "Epoch 7/10\n",
      "10938/10938 [==============================] - 18s 2ms/step - loss: 3.4738e-04 - mean_squared_error: 3.4738e-04\n",
      "Epoch 8/10\n",
      "10938/10938 [==============================] - 18s 2ms/step - loss: 2.8267e-04 - mean_squared_error: 2.8267e-04\n",
      "Epoch 9/10\n",
      "10938/10938 [==============================] - 19s 2ms/step - loss: 2.3576e-04 - mean_squared_error: 2.3576e-04\n",
      "Epoch 10/10\n",
      "10938/10938 [==============================] - 19s 2ms/step - loss: 2.1789e-04 - mean_squared_error: 2.1789e-04\n"
     ]
    },
    {
     "data": {
      "text/plain": [
       "<keras.src.callbacks.History at 0x1a792d92250>"
      ]
     },
     "execution_count": 13,
     "metadata": {},
     "output_type": "execute_result"
    }
   ],
   "source": [
    "model2.compile(loss= \"mean_squared_error\" , optimizer=tf.keras.optimizers.Adam(learning_rate=1e-3), metrics=[\"mean_squared_error\"])\n",
    "model2.fit(X_train, y_train, epochs=10, batch_size=64)"
   ]
  },
  {
   "cell_type": "code",
   "execution_count": 14,
   "id": "0e7d3d9b",
   "metadata": {},
   "outputs": [
    {
     "name": "stdout",
     "output_type": "stream",
     "text": [
      "21875/21875 [==============================] - 27s 1ms/step\n",
      "0.011340842318497826\n",
      "9375/9375 [==============================] - 12s 1ms/step\n",
      "0.011348018488757489\n"
     ]
    }
   ],
   "source": [
    "#We calcluate the mean squared error for the train set\n",
    "pred_train = model2.predict(X_train)\n",
    "print(np.sqrt(mean_squared_error(y_train, pred_train)))\n",
    "\n",
    "#We calcluate the mean squared error for the validation set\n",
    "pred = model2.predict(X_test)\n",
    "print(np.sqrt(mean_squared_error(y_test, pred))) "
   ]
  },
  {
   "cell_type": "code",
   "execution_count": null,
   "id": "07261fb4",
   "metadata": {},
   "outputs": [],
   "source": []
  }
 ],
 "metadata": {
  "kernelspec": {
   "display_name": "Python 3 (ipykernel)",
   "language": "python",
   "name": "python3"
  },
  "language_info": {
   "codemirror_mode": {
    "name": "ipython",
    "version": 3
   },
   "file_extension": ".py",
   "mimetype": "text/x-python",
   "name": "python",
   "nbconvert_exporter": "python",
   "pygments_lexer": "ipython3",
   "version": "3.11.5"
  }
 },
 "nbformat": 4,
 "nbformat_minor": 5
}
